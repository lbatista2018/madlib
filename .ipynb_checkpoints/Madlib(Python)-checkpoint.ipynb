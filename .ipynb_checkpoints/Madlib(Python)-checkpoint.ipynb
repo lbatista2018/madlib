{
 "cells": [
  {
   "cell_type": "code",
   "execution_count": 3,
   "metadata": {},
   "outputs": [],
   "source": [
    "# MadLib Generator"
   ]
  },
  {
   "cell_type": "code",
   "execution_count": null,
   "metadata": {},
   "outputs": [
    {
     "name": "stdout",
     "output_type": "stream",
     "text": [
      "Choose a noun: apple\n",
      "Choose a plural noun: dogs\n",
      "Choose a noun: sock\n",
      "Name a place: Paris\n",
      "Choose an adjective: lazy\n",
      "Choose a noun: screwdriver\n",
      "----------------------------------------------\n",
      "Be kind to your apple -footed dogs\n",
      "For a duck may be somebody's sock ,\n",
      "Be kind to your dogs in Paris\n",
      "Where the weather is always lazy .\n",
      "\n",
      "You may think that is this the screwdriver ,\n",
      "Well it is.\n",
      "----------------------------------------------\n"
     ]
    }
   ],
   "source": [
    "loop = 1\n",
    "while (loop < 10):\n",
    "    noun = input(\"Choose a noun: \")\n",
    "    p_noun = input(\"Choose a plural noun: \")\n",
    "    noun2 = input(\"Choose a noun: \")\n",
    "    place = input(\"Name a place: \")\n",
    "    adjective = input(\"Choose an adjective: \")\n",
    "    noun3 = input(\"Choose a noun: \")\n",
    "    \n",
    "    print(\"----------------------------------------------\")\n",
    "    print(\"Be kind to your\", noun, \"-footed\", p_noun)\n",
    "    print(\"For a duck may be somebody's\", noun2, \",\")\n",
    "    print(\"Be kind to your\", p_noun, \"in\", place)\n",
    "    print(\"Where the weather is always\", adjective, \".\")\n",
    "    print()\n",
    "    print(\"You may think that is this the\", noun3, \",\")\n",
    "    print(\"Well it is.\")\n",
    "    print(\"----------------------------------------------\")\n",
    "    \n",
    "    loop = loop + 1"
   ]
  },
  {
   "cell_type": "code",
   "execution_count": null,
   "metadata": {},
   "outputs": [],
   "source": []
  }
 ],
 "metadata": {
  "kernelspec": {
   "display_name": "Python 3",
   "language": "python",
   "name": "python3"
  },
  "language_info": {
   "codemirror_mode": {
    "name": "ipython",
    "version": 3
   },
   "file_extension": ".py",
   "mimetype": "text/x-python",
   "name": "python",
   "nbconvert_exporter": "python",
   "pygments_lexer": "ipython3",
   "version": "3.8.5"
  }
 },
 "nbformat": 4,
 "nbformat_minor": 4
}
